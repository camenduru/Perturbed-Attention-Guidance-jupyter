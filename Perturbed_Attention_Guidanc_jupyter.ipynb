{
  "cells": [
    {
      "cell_type": "markdown",
      "metadata": {
        "id": "view-in-github"
      },
      "source": [
        "[![Open In Colab](https://colab.research.google.com/assets/colab-badge.svg)](https://colab.research.google.com/github/camenduru/Perturbed-Attention-Guidance-jupyter/blob/main/Perturbed_Attention_Guidanc_jupyter.ipynb)"
      ]
    },
    {
      "cell_type": "code",
      "execution_count": null,
      "metadata": {
        "id": "VjYy0F2gZIPR"
      },
      "outputs": [],
      "source": [
        "%cd /content\n",
        "!pip install -q diffusers accelerate\n",
        "\n",
        "import numpy as np\n",
        "import torch\n",
        "import cv2\n",
        "\n",
        "from diffusers import StableDiffusionPipeline\n",
        "from diffusers.utils.torch_utils import randn_tensor\n",
        "\n",
        "from accelerate.utils import set_seed\n",
        "from google.colab.patches import cv2_imshow\n",
        "\n",
        "# load pipeline\n",
        "\n",
        "pipe = StableDiffusionPipeline.from_pretrained(\"runwayml/stable-diffusion-v1-5\", custom_pipeline=\"hyoungwoncho/sd_perturbed_attention_guidance\", torch_dtype=torch.float16)\n",
        "\n",
        "device=\"cuda\"\n",
        "pipe = pipe.to(device)\n",
        "\n",
        "# hyperparameters\n",
        "\n",
        "pag_scale = 5.0\n",
        "pag_applied_layers_index = ['m0']\n",
        "\n",
        "seed = 321\n",
        "\n",
        "# sampling\n",
        "\n",
        "set_seed(seed)\n",
        "latent_input = randn_tensor(shape=(1,4,64,64),generator=None, device=device, dtype=torch.float16)\n",
        "\n",
        "output_baseline = pipe(\n",
        "    \"\",\n",
        "    width=512,\n",
        "    height=512,\n",
        "    num_inference_steps=50,\n",
        "    guidance_scale=0.0,\n",
        "    pag_scale=0.0,\n",
        "    pag_applied_layers_index=pag_applied_layers_index,\n",
        "    latents=latent_input\n",
        ").images[0]\n",
        "output_baseline.save(f'uncond_baseline.png')\n",
        "\n",
        "output_pag = pipe(\n",
        "    \"\",\n",
        "    width=512,\n",
        "    height=512,\n",
        "    num_inference_steps=50,\n",
        "    guidance_scale=0.0,\n",
        "    pag_scale=pag_scale,\n",
        "    pag_applied_layers_index=pag_applied_layers_index,\n",
        "    latents=latent_input\n",
        ").images[0]\n",
        "output_pag.save(f'uncond_pag.png')\n",
        "\n",
        "\n",
        "uncond_baseline = cv2.imread('uncond_baseline.png')\n",
        "uncond_pag = cv2.imread('uncond_pag.png')\n",
        "result_image = cv2.hconcat([uncond_baseline, uncond_pag])\n",
        "cv2_imshow(result_image)"
      ]
    }
  ],
  "metadata": {
    "accelerator": "GPU",
    "colab": {
      "gpuType": "T4",
      "provenance": []
    },
    "kernelspec": {
      "display_name": "Python 3",
      "name": "python3"
    },
    "language_info": {
      "name": "python"
    }
  },
  "nbformat": 4,
  "nbformat_minor": 0
}
